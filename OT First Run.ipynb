{
 "cells": [
  {
   "cell_type": "code",
   "execution_count": 13,
   "metadata": {},
   "outputs": [],
   "source": [
    "import numpy as np"
   ]
  },
  {
   "cell_type": "code",
   "execution_count": 40,
   "metadata": {},
   "outputs": [],
   "source": [
    "all_distribs = []\n",
    "all_weights = []"
   ]
  },
  {
   "cell_type": "code",
   "execution_count": 41,
   "metadata": {},
   "outputs": [],
   "source": [
    "with open('9_weeks_gestation-F7.txt', 'r') as f:\n",
    "    file_string = f.read()\n",
    "    distrib = [float(i) for i in file_string.split(',')]\n",
    "    all_distribs.append(np.array(distrib).reshape(922, 13231))\n",
    "    all_weights.append(np.ones((922,)) / 922)"
   ]
  },
  {
   "cell_type": "code",
   "execution_count": 42,
   "metadata": {},
   "outputs": [],
   "source": [
    "with open('16_weeks_gestation-F14.txt', 'r') as f:\n",
    "    file_string = f.read()\n",
    "    distrib = [float(i) for i in file_string.split(',')]\n",
    "    all_distribs.append(np.array(distrib).reshape(1215, 13231))\n",
    "    all_weights.append(np.ones((1215,)) / 1215)"
   ]
  },
  {
   "cell_type": "code",
   "execution_count": 43,
   "metadata": {},
   "outputs": [],
   "source": [
    "with open('17_weeks_gestation-F16.txt', 'r') as f:\n",
    "    file_string = f.read()\n",
    "    distrib = [float(i) for i in file_string.split(',')]\n",
    "    all_distribs.append(np.array(distrib).reshape(1008, 13231))\n",
    "    all_weights.append(np.ones((1008,)) / 1008)"
   ]
  },
  {
   "cell_type": "code",
   "execution_count": 44,
   "metadata": {},
   "outputs": [],
   "source": [
    "with open('14_weeks_gestation-F13.txt', 'r') as f:\n",
    "    file_string = f.read()\n",
    "    distrib = [float(i) for i in file_string.split(',')]\n",
    "    all_distribs.append(np.array(distrib).reshape(1295, 13231))\n",
    "    all_weights.append(np.ones((1295,)) / 1295)"
   ]
  },
  {
   "cell_type": "code",
   "execution_count": 45,
   "metadata": {},
   "outputs": [],
   "source": [
    "with open('9_weeks_gestation-F8.txt', 'r') as f:\n",
    "    file_string = f.read()\n",
    "    distrib = [float(i) for i in file_string.split(',')]\n",
    "    all_distribs.append(np.array(distrib).reshape(1151, 13231))\n",
    "    all_weights.append(np.ones((1151,)) / 1151)"
   ]
  },
  {
   "cell_type": "code",
   "execution_count": 46,
   "metadata": {},
   "outputs": [],
   "source": [
    "with open('8_weeks_gestation-F5.txt', 'r') as f:\n",
    "    file_string = f.read()\n",
    "    distrib = [float(i) for i in file_string.split(',')]\n",
    "    all_distribs.append(np.array(distrib).reshape(1086, 13231))\n",
    "    all_weights.append(np.ones((1086,)) / 1086)"
   ]
  },
  {
   "cell_type": "code",
   "execution_count": 47,
   "metadata": {},
   "outputs": [],
   "source": [
    "with open('7_weeks_gestation-F3.txt', 'r') as f:\n",
    "    file_string = f.read()\n",
    "    distrib = [float(i) for i in file_string.split(',')]\n",
    "    all_distribs.append(np.array(distrib).reshape(874, 13231))\n",
    "    all_weights.append(np.ones((874,)) / 874)"
   ]
  },
  {
   "cell_type": "code",
   "execution_count": 48,
   "metadata": {},
   "outputs": [],
   "source": [
    "with open('13_weeks_gestation-F12.txt', 'r') as f:\n",
    "    file_string = f.read()\n",
    "    distrib = [float(i) for i in file_string.split(',')]\n",
    "    all_distribs.append(np.array(distrib).reshape(963, 13231))\n",
    "    all_weights.append(np.ones((963,)) / 963)"
   ]
  },
  {
   "cell_type": "code",
   "execution_count": 49,
   "metadata": {},
   "outputs": [],
   "source": [
    "with open('16_weeks_gestation-F15.txt', 'r') as f:\n",
    "    file_string = f.read()\n",
    "    distrib = [float(i) for i in file_string.split(',')]\n",
    "    all_distribs.append(np.array(distrib).reshape(1454, 13231))\n",
    "    all_weights.append(np.ones((1454,)) / 1454)"
   ]
  },
  {
   "cell_type": "code",
   "execution_count": 27,
   "metadata": {},
   "outputs": [
    {
     "data": {
      "text/plain": [
       "(9, 9)"
      ]
     },
     "execution_count": 27,
     "metadata": {},
     "output_type": "execute_result"
    }
   ],
   "source": [
    "len(all_distribs), len(all_weights)"
   ]
  },
  {
   "cell_type": "code",
   "execution_count": 28,
   "metadata": {},
   "outputs": [
    {
     "data": {
      "text/plain": [
       "((963, 13231), (1215,))"
      ]
     },
     "execution_count": 28,
     "metadata": {},
     "output_type": "execute_result"
    }
   ],
   "source": [
    "all_distribs[7].shape, all_weights[7].shape"
   ]
  },
  {
   "cell_type": "code",
   "execution_count": 25,
   "metadata": {},
   "outputs": [],
   "source": [
    "import numpy as np\n",
    "import matplotlib.pylab as pl\n",
    "import ot\n",
    "import ot.plot"
   ]
  },
  {
   "cell_type": "code",
   "execution_count": 50,
   "metadata": {},
   "outputs": [
    {
     "name": "stdout",
     "output_type": "stream",
     "text": [
      "0 1: 0.3750765526677717\n",
      "0 2: 0.3160922343111105\n",
      "0 3: 0.32767074777107413\n",
      "0 4: 0.33690583388971845\n",
      "0 5: 0.3201265038359503\n",
      "0 6: 0.33308732841383504\n",
      "0 7: 0.36448439506002583\n",
      "0 8: 0.31698129299107275\n",
      "1 2: 0.36686734748117306\n",
      "1 3: 0.3892435496446353\n",
      "1 4: 0.3896461897527196\n",
      "1 5: 0.37421668703031025\n",
      "1 6: 0.39055178093219856\n",
      "1 7: 0.4418806410734326\n",
      "1 8: 0.36540959695901065\n",
      "2 3: 0.3230579535124147\n",
      "2 4: 0.318937540955982\n",
      "2 5: 0.30584986088095906\n",
      "2 6: 0.32408136920356595\n",
      "2 7: 0.3638504699623561\n",
      "2 8: 0.3071979348014378\n",
      "3 4: 0.33637453621602087\n",
      "3 5: 0.3230099709166017\n",
      "3 6: 0.3369264426541514\n",
      "3 7: 0.3739982363976866\n",
      "3 8: 0.3233119266283408\n",
      "4 5: 0.32039784903992774\n",
      "4 6: 0.3363454474481529\n",
      "4 7: 0.37444242174601583\n",
      "4 8: 0.3222294550225772\n",
      "5 6: 0.33195567532919623\n",
      "5 7: 0.36325088265973016\n",
      "5 8: 0.3083077435626722\n",
      "6 7: 0.3774733877016085\n",
      "6 8: 0.32256071410835774\n",
      "7 8: 0.35576857971878184\n"
     ]
    }
   ],
   "source": [
    "for source in range(len(all_distribs)):\n",
    "    for target in range(source + 1, len(all_distribs)):\n",
    "        loss_matrix = ot.dist(all_distribs[source], all_distribs[target])\n",
    "        loss_matrix = loss_matrix / loss_matrix.max()\n",
    "        transport_map = ot.emd(all_weights[source], all_weights[target], loss_matrix, log = True)\n",
    "        print(\"{} {}: {}\".format(source, target, transport_map[1]['cost']))"
   ]
  },
  {
   "cell_type": "code",
   "execution_count": null,
   "metadata": {},
   "outputs": [],
   "source": []
  },
  {
   "cell_type": "code",
   "execution_count": 11,
   "metadata": {},
   "outputs": [],
   "source": [
    "# Loss Matrix with squared euclidean distance as the cost\n",
    "loss_matrix = ot.dist(source_arr, target_arr)\n",
    "# Normalize Loss Matrix with maximum\n",
    "loss_matrix = loss_matrix / loss_matrix.max()"
   ]
  },
  {
   "cell_type": "code",
   "execution_count": 12,
   "metadata": {},
   "outputs": [
    {
     "name": "stdout",
     "output_type": "stream",
     "text": [
      "The cost is: 0.3750765526677717\n"
     ]
    }
   ],
   "source": [
    "transport_map = ot.emd(weights_source, weights_target, loss_matrix, log = True)\n",
    "print(\"The cost is: {}\".format(transport_map[1]['cost']))"
   ]
  },
  {
   "cell_type": "code",
   "execution_count": null,
   "metadata": {},
   "outputs": [],
   "source": []
  }
 ],
 "metadata": {
  "kernelspec": {
   "display_name": "Python 3",
   "language": "python",
   "name": "python3"
  },
  "language_info": {
   "codemirror_mode": {
    "name": "ipython",
    "version": 3
   },
   "file_extension": ".py",
   "mimetype": "text/x-python",
   "name": "python",
   "nbconvert_exporter": "python",
   "pygments_lexer": "ipython3",
   "version": "3.8.3"
  }
 },
 "nbformat": 4,
 "nbformat_minor": 4
}
